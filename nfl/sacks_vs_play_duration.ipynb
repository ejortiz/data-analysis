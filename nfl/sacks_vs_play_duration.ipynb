{
 "cells": [
  {
   "cell_type": "markdown",
   "metadata": {
    "collapsed": true
   },
   "source": [
    "<h1>Does an offense's running play time relate in any way to the amount of sacks they allow?</h1>\n",
    "\n",
    "Measuring an offensive line's strength by some kind of stat is difficult since, unfortunately, the OL is usually measured by the absense of events like sacks. Other stats, like blocks, aren't official statistics, and thus it is difficult to find good sources for them.\n",
    "\n",
    "Sacks are a clear measure of an OL's strength. The data there had been cleaned up from this <a href=\"https://www.kaggle.com/zynicide/nfl-football-player-stats\"> source </a> and output to a csv.\n",
    "\n",
    "What else could be a possible measure of an OL's strength? One possible measure is the amount of time the OL gives the quarterback to attempt to make a play. \n",
    "\n",
    "I had trouble finding data which counted the play from the moment the ball was snapped and when the player was tackled, went out-of-bounds, or scored a touchdown. Data I worked with only kept track of time per the official rules. So, for example, a running play that took 4 seconds from snap to tackle could take more than four seconds if the player was tackled in-bounds, and the team tried to run down the clock.\n",
    "\n",
    " "
   ]
  },
  {
   "cell_type": "code",
   "execution_count": null,
   "metadata": {},
   "outputs": [],
   "source": [
    "import numpy as np\n",
    "import matplotlib.pyplot as plt\n",
    "import pandas as pd\n",
    "\n",
    "\n",
    "play_duration_full_path = \"./play_duration_inc_pass.csv\"\n",
    "games_full_path = \"./sack_totals.csv\"\n",
    "\n",
    "play_duration_df = pd.read_csv(play_duration_full_path)\n",
    "games_df = pd.read_csv(games_full_path)\n",
    "\n",
    "# we only have data available for play duration past 2008 so\n",
    "# subset the data appropriately\n",
    "games_df = games_df[games_df[\"year\"] >= 2009]\n",
    "\n",
    "result_df = pd.merge(games_df, play_duration_df, left_on=['team', 'year'], right_on=['posteam', 'Year'])\n",
    "\n",
    "sacks_result_df = result_df['defense_sacks']\n",
    "duration_result_df = result_df[\"PlayDuration\"]\n",
    "\n",
    "print(\"Correlation Coefficient: \" + str(sacks_result_df.corr(duration_result_df)))\n",
    "\n",
    "_ = plt.plot(sacks_result_df, duration_result_df, linestyle='none', marker='.')\n",
    "_ = plt.margins(0.02)\n",
    "_ = plt.xlabel(\"Sacks Allowed Per Season\")\n",
    "_ = plt.ylabel(\"Play Duration (2nd Incomplete Pass) \\n Average Per Season (s)\")\n",
    "_ = plt.title(\"Season Team Sacks vs. Play Duration\")\n",
    "a, b = np.polyfit(sacks_result_df, duration_result_df, 1)\n",
    "# Make theoretical line to plot\n",
    "x = np.array([0, 100])\n",
    "y = a * x + b\n",
    "\n",
    "_ = plt.plot(x, y)\n",
    "\n",
    "plt.show()\n"
   ]
  },
  {
   "cell_type": "markdown",
   "metadata": {},
   "source": [
    "Looks like play"
   ]
  }
 ],
 "metadata": {
  "kernelspec": {
   "display_name": "Python 2",
   "language": "python",
   "name": "python2"
  },
  "language_info": {
   "codemirror_mode": {
    "name": "ipython",
    "version": 2
   },
   "file_extension": ".py",
   "mimetype": "text/x-python",
   "name": "python",
   "nbconvert_exporter": "python",
   "pygments_lexer": "ipython2",
   "version": "2.7.6"
  }
 },
 "nbformat": 4,
 "nbformat_minor": 0
}
