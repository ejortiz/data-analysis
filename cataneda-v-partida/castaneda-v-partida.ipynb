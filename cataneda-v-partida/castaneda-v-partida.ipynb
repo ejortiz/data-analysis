{
 "cells": [
  {
   "cell_type": "markdown",
   "metadata": {
    "collapsed": true
   },
   "source": [
    "<h1>Castaneda v. Partida </h1>\n",
    "\n",
    "\n",
    "Castaneda v. Partida (https://supreme.justia.com/cases/federal/us/430/482/case.html) in which there was a claimed bias in the selection of jurors.\n",
    "\n",
    "In the jury population, 79.1% of the population was Mexican-American. Over a 2.5-year time span, there were 220 people summoned to be jurors, yet only 100 of these 220 jurors were Mexican-American. The question here was this: were the jurors selected at random?\n",
    "\n",
    "For this instance, we will assume there was no bias in selection of jurors, i.e. <br> <br>\n",
    "\n",
    "$H_0$: jurors were chosen randomly and independently of the population.\n",
    "\n",
    "<br><br>\n",
    "We will proceed to build an array of 220 values in which 79.1% (approx. 174 people) are Mexican-American.\n",
    "We will represent these values in a numpy array of length 220, where \"0\" represents a personthat is not Mexican-American, and \"1\" if a person <i>is</i> \n",
    "Mexican-American.\n",
    "\n",
    "If $H_0$ is true, then we should see that the number $m_j$ of Mexican-Americans for each random sample $j$ should not be rare to be 100 Mexican-Americans or\n",
    "fewer.\n"
   ]
  },
  {
   "cell_type": "code",
   "execution_count": null,
   "metadata": {
    "collapsed": false
   },
   "outputs": [],
   "source": [
    "import numpy as np\n",
    "import matplotlib.pyplot as plt\n",
    "\n",
    "mexican_americans = np.ones(174)\n",
    "not_mexican_americans = np.zeros(46)\n",
    "sample_population = np.concatenate([mexican_americans, not_mexican_americans])\n",
    "\n",
    "num_of_samples = 10000\n",
    "sample_arr = np.empty(num_of_samples)\n",
    "sample_mex_am_totals = np.empty(num_of_samples)\n",
    "for i in range(0, num_of_samples):\n",
    "    bootstrap_sample = np.random.choice(sample_population, len(sample_population))\n",
    "    sample_mex_am_totals[i] = np.sum(bootstrap_sample > 0)\n",
    "\n",
    "plt.hist(sample_mex_am_totals)\n",
    "plt.show()\n",
    "p = np.sum(sample_mex_am_totals <= 100) / num_of_samples\n",
    "print(\"p value = \" + str(p))"
   ]
  },
  {
   "cell_type": "markdown",
   "metadata": {},
   "source": [
    "By looking at the p-value, it appears to be extremely rare to have 100 Mexican-Americans or fewer. In this case, we will reject $H_0$ and say that jurors were not selected impartially."
   ]
  },
  {
   "cell_type": "code",
   "execution_count": null,
   "metadata": {},
   "outputs": [],
   "source": []
  }
 ],
 "metadata": {
  "kernelspec": {
   "display_name": "Python 3",
   "language": "python",
   "name": "python3"
  },
  "language_info": {
   "codemirror_mode": {
    "name": "ipython",
    "version": 3
   },
   "file_extension": ".py",
   "mimetype": "text/x-python",
   "name": "python",
   "nbconvert_exporter": "python",
   "pygments_lexer": "ipython3",
   "version": "3.6.4"
  }
 },
 "nbformat": 4,
 "nbformat_minor": 1
}
