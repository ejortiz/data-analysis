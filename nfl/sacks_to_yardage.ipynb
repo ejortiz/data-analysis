{
 "cells": [
  {
   "cell_type": "markdown",
   "metadata": {
    "collapsed": true
   },
   "source": [
    "<h1>Sacks to Yardage: An exploratory look</h1>\n",
    "\n",
    "This is just a question I have been wondering: does a team's sack totals correlate at all with the team running back rushing totals?"
   ]
  },
  {
   "cell_type": "code",
   "execution_count": null,
   "metadata": {},
   "outputs": [],
   "source": [
    "import numpy as np\n",
    "import matplotlib.pyplot as plt\n",
    "# import seaborn as sns\n",
    "import pandas as pd\n",
    "from nflfunctions import get_all_players_by_position\n",
    "# from nflfunctions import sum_player_stats_per_season\n",
    "from nflfunctions import sum_stats_per_grouping\n",
    "\n",
    "player_stats_file = 'nfl_profiles.csv'\n",
    "games_file = 'nfl_games.csv'\n",
    "player_stats_full_path = './' + 'nfl_profiles.csv'\n",
    "games_full_path = './' + 'nfl_games.csv'\n",
    "\n",
    "# get all running back profiles\n",
    "df_profiles = pd.read_csv(player_stats_full_path)\n",
    "# df_profiles.set_index(\"Unnamed: 0\")\n",
    "rb_profiles = get_all_players_by_position(df_profiles, 'RB')\n",
    "\n",
    "df_games = pd.read_csv(games_full_path)\n",
    "\n",
    "rb_data = df_games[df_games[\"player_id\"].isin(rb_profiles[\"player_id\"])]\n",
    "\n",
    "rb_rushing_yards_df = sum_stats_per_grouping(rb_data, ['year', 'team'], ['rushing_yards'])\n",
    "team_defensive_sacks = sum_stats_per_grouping(df_games, ['year', 'opponent'], ['defense_sacks'])\n",
    "\n",
    "rb_rushing_yards_df = rb_rushing_yards_df[rb_rushing_yards_df[\"year\"] > 1981]  # Sacks as an NFL stat only came into play after 1981\n",
    "result_df = pd.merge(rb_rushing_yards_df, team_defensive_sacks, left_on=['team', 'year'], right_on=['opponent', 'year'])\n",
    "\n",
    "sacks_result_df = result_df['defense_sacks']\n",
    "rushing_yards_result_df = result_df[\"rushing_yards\"]"
   ]
  },
  {
   "cell_type": "markdown",
   "metadata": {},
   "source": [
    "Nothing happened above except formatting of data. Below is the result:\n"
   ]
  },
  {
   "cell_type": "code",
   "execution_count": null,
   "metadata": {},
   "outputs": [],
   "source": [
    "_ = plt.plot(sacks_result_df, rushing_yards_result_df, linestyle='none', marker='.')\n",
    "_ = plt.margins(0.02)\n",
    "_ = plt.xlabel(\"sacks allowed per season\")\n",
    "_ = plt.ylabel(\"RB Rushing Yards Per Season\")\n",
    "\n",
    "a, b = np.polyfit(sacks_result_df, rushing_yards_result_df, 1)\n",
    "# Make theoretical line to plot\n",
    "x = np.array([0, 100])\n",
    "y = a * x + b\n",
    "\n",
    "_ = plt.plot(x, y)\n",
    "plt.show()\n",
    "print(sacks_result_df.corr(rushing_yards_result_df))"
   ]
  },
  {
   "cell_type": "markdown",
   "metadata": {},
   "source": [
    "As defined by <a href=\"http://www.statstutor.ac.uk/resources/uploaded/pearsons.pdf\">this document</a>, we see that team sacks to team running back rushing totals are actually weakly correlated. Perhaps I will test this number and see if such a weak correlation is work investigating, but for now, we will keep it as such."
   ]
  },
  {
   "cell_type": "code",
   "execution_count": null,
   "metadata": {},
   "outputs": [],
   "source": []
  }
 ],
 "metadata": {
  "kernelspec": {
   "display_name": "Python 2",
   "language": "python",
   "name": "python2"
  },
  "language_info": {
   "codemirror_mode": {
    "name": "ipython",
    "version": 2
   },
   "file_extension": ".py",
   "mimetype": "text/x-python",
   "name": "python",
   "nbconvert_exporter": "python",
   "pygments_lexer": "ipython2",
   "version": "2.7.6"
  }
 },
 "nbformat": 4,
 "nbformat_minor": 0
}
